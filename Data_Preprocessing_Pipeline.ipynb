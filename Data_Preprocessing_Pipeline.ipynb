{
  "nbformat": 4,
  "nbformat_minor": 0,
  "metadata": {
    "colab": {
      "provenance": [],
      "authorship_tag": "ABX9TyPFK3n7rQJOtBj6aUXWVtjs",
      "include_colab_link": true
    },
    "kernelspec": {
      "name": "python3",
      "display_name": "Python 3"
    },
    "language_info": {
      "name": "python"
    }
  },
  "cells": [
    {
      "cell_type": "markdown",
      "metadata": {
        "id": "view-in-github",
        "colab_type": "text"
      },
      "source": [
        "<a href=\"https://colab.research.google.com/github/caglakarayilanoglu/Hello-World/blob/master/Data_Preprocessing_Pipeline.ipynb\" target=\"_parent\"><img src=\"https://colab.research.google.com/assets/colab-badge.svg\" alt=\"Open In Colab\"/></a>"
      ]
    },
    {
      "cell_type": "code",
      "execution_count": null,
      "metadata": {
        "id": "-eDs2iHoNbd6"
      },
      "outputs": [],
      "source": [
        "import pandas as pd\n",
        "import numpy as np\n",
        "from sklearn.preprocessing import StandardScaler\n",
        "\n",
        "def data_preprocessing_pipeline(data):\n",
        "    #Identify numeric and categorical features\n",
        "    numeric_features = data.select_dtypes(include=['float', 'int']).columns\n",
        "    categorical_features = data.select_dtypes(include=['object']).columns\n",
        "\n",
        "    #Handle missing values in numeric features\n",
        "    data[numeric_features] = data[numeric_features].fillna(data[numeric_features].mean())\n",
        "\n",
        "    #Detect and handle outliers in numeric features using IQR\n",
        "    for feature in numeric_features:\n",
        "        Q1 = data[feature].quantile(0.25)\n",
        "        Q3 = data[feature].quantile(0.75)\n",
        "        IQR = Q3 - Q1\n",
        "        lower_bound = Q1 - (1.5 * IQR)\n",
        "        upper_bound = Q3 + (1.5 * IQR)\n",
        "        data[feature] = np.where((data[feature] < lower_bound) | (data[feature] > upper_bound),\n",
        "                                 data[feature].mean(), data[feature])\n",
        "\n",
        "    #Normalize numeric features\n",
        "    scaler = StandardScaler()\n",
        "    scaled_data = scaler.fit_transform(data[numeric_features])\n",
        "    data[numeric_features] = scaler.transform(data[numeric_features])\n",
        "\n",
        "    #Handle missing values in categorical features\n",
        "    data[categorical_features] = data[categorical_features].fillna(data[categorical_features].mode().iloc[0])\n",
        "\n",
        "    return data"
      ]
    }
  ]
}